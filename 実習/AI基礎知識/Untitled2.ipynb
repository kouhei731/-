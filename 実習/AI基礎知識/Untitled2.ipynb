{
 "cells": [
  {
   "cell_type": "code",
   "execution_count": 3,
   "id": "d73b3f65",
   "metadata": {},
   "outputs": [
    {
     "name": "stdout",
     "output_type": "stream",
     "text": [
      "Error:0.03999999999999998 Prediction:-0.19999999999999996\n",
      "Error:0.025599999999999973 Prediction:-0.15999999999999992\n",
      "Error:0.01638399999999997 Prediction:-0.1279999999999999\n",
      "Error:0.010485759999999964 Prediction:-0.10239999999999982\n",
      "Error:0.006710886399999962 Prediction:-0.08191999999999977\n",
      "Error:0.004294967295999976 Prediction:-0.06553599999999982\n",
      "Error:0.002748779069439994 Prediction:-0.05242879999999994\n",
      "Error:0.0017592186044416036 Prediction:-0.04194304000000004\n",
      "Error:0.0011258999068426293 Prediction:-0.03355443200000008\n",
      "Error:0.0007205759403792803 Prediction:-0.02684354560000002\n",
      "Error:0.0004611686018427356 Prediction:-0.021474836479999926\n",
      "Error:0.0002951479051793508 Prediction:-0.01717986918399994\n",
      "Error:0.00018889465931478573 Prediction:-0.013743895347199997\n",
      "Error:0.00012089258196146188 Prediction:-0.010995116277759953\n",
      "Error:7.737125245533561e-05 Prediction:-0.008796093022207963\n",
      "Error:4.951760157141604e-05 Prediction:-0.007036874417766459\n",
      "Error:3.169126500570676e-05 Prediction:-0.0056294995342132115\n",
      "Error:2.028240960365233e-05 Prediction:-0.004503599627370569\n",
      "Error:1.298074214633813e-05 Prediction:-0.003602879701896544\n",
      "Error:8.307674973656916e-06 Prediction:-0.002882303761517324\n"
     ]
    }
   ],
   "source": [
    "import numpy as np\n",
    "weights = np.array([0.5,0.48,-0.7])\n",
    "alpha = 0.1\n",
    "\n",
    "streetlights = np.array( [ [ 1, 0, 1 ],\n",
    "                           [ 0, 1, 1 ],\n",
    "                           [ 0, 0, 1 ],\n",
    "                           [ 1, 1, 1 ],\n",
    "                           [ 0, 1, 1 ],\n",
    "                           [ 1, 0, 1 ] ] )\n",
    "\n",
    "walk_vs_stop = np.array( [ 0, 1, 0, 1, 1, 0 ] )\n",
    "\n",
    "input = streetlights[0] # [1,0,1]\n",
    "goal_prediction = walk_vs_stop[0] # equals 0... i.e. \"stop\"\n",
    "\n",
    "for iteration in range(20):\n",
    "    prediction = input.dot(weights)\n",
    "    error = (goal_prediction - prediction) ** 2\n",
    "    delta = prediction - goal_prediction\n",
    "    weights = weights - (alpha * (input * delta))\t\n",
    "\n",
    "    print(\"Error:\" + str(error) + \" Prediction:\" + str(prediction))"
   ]
  },
  {
   "cell_type": "code",
   "execution_count": null,
   "id": "8e04f854",
   "metadata": {},
   "outputs": [],
   "source": []
  }
 ],
 "metadata": {
  "kernelspec": {
   "display_name": "Python 3",
   "language": "python",
   "name": "python3"
  },
  "language_info": {
   "codemirror_mode": {
    "name": "ipython",
    "version": 3
   },
   "file_extension": ".py",
   "mimetype": "text/x-python",
   "name": "python",
   "nbconvert_exporter": "python",
   "pygments_lexer": "ipython3",
   "version": "3.8.2"
  }
 },
 "nbformat": 4,
 "nbformat_minor": 5
}
