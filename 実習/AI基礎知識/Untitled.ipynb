{
 "cells": [
  {
   "cell_type": "code",
   "execution_count": 4,
   "id": "8529f28e",
   "metadata": {},
   "outputs": [],
   "source": [
    "weights = [0.1,0.2,0]\n",
    "\n",
    "def neural_network(input, weights):\n",
    "    pred = w_sum(input, weights)\n",
    "    return pred"
   ]
  },
  {
   "cell_type": "code",
   "execution_count": null,
   "id": "e20bde6b",
   "metadata": {},
   "outputs": [],
   "source": [
    "toes = [8.5,9.5,9.9,9.0]\n",
    "wlrec = [0.65,0.8,0.8,0.9]\n",
    "nfans = [8.5,9.5,9.9,9.0]"
   ]
  }
 ],
 "metadata": {
  "kernelspec": {
   "display_name": "Python 3",
   "language": "python",
   "name": "python3"
  },
  "language_info": {
   "codemirror_mode": {
    "name": "ipython",
    "version": 3
   },
   "file_extension": ".py",
   "mimetype": "text/x-python",
   "name": "python",
   "nbconvert_exporter": "python",
   "pygments_lexer": "ipython3",
   "version": "3.8.2"
  }
 },
 "nbformat": 4,
 "nbformat_minor": 5
}
